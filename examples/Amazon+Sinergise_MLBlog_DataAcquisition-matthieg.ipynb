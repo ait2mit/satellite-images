{
 "cells": [
  {
   "cell_type": "code",
   "execution_count": 1,
   "metadata": {},
   "outputs": [],
   "source": [
    "%reload_ext autoreload\n",
    "%autoreload 2"
   ]
  },
  {
   "cell_type": "code",
   "execution_count": 2,
   "metadata": {},
   "outputs": [],
   "source": [
    "import sys\n",
    "sys.path.append('../DataRequest/')"
   ]
  },
  {
   "cell_type": "markdown",
   "metadata": {},
   "source": [
    "# Amazon ML + Sinergise Blog\n"
   ]
  },
  {
   "cell_type": "markdown",
   "metadata": {},
   "source": [
    "## Data Acquisition"
   ]
  },
  {
   "cell_type": "markdown",
   "metadata": {},
   "source": [
    "This notebook shows how to obtain raw data (Sentinel 2 satellite images) using Sentinel Hub and ground truth (polygons of tulip fields) from Geopedia. At the moment Geopedia contains only data from 2016. 2017 data and other crop types (i.e. other flower types) can be easily added."
   ]
  },
  {
   "cell_type": "markdown",
   "metadata": {},
   "source": [
    "###### Required WMS instance"
   ]
  },
  {
   "cell_type": "markdown",
   "metadata": {},
   "source": [
    "The instance below was created by Sinergise for the purpuse of this blog. It was created on Jed's name using his email address (jed@amazon.de). Use this instance for accessing Sentinel 2 data via Sentinel Hub."
   ]
  },
  {
   "cell_type": "code",
   "execution_count": 3,
   "metadata": {},
   "outputs": [],
   "source": [
    "WMS_INSTANCE = '71513b0b-264d-494a-b8c4-c3c36433db28'"
   ]
  },
  {
   "cell_type": "code",
   "execution_count": 4,
   "metadata": {},
   "outputs": [],
   "source": [
    "sentinel_hub_wms='https://services.sentinel-hub.com/ogc/wms/'+WMS_INSTANCE"
   ]
  },
  {
   "cell_type": "code",
   "execution_count": 5,
   "metadata": {},
   "outputs": [],
   "source": [
    "geopedia_layers = {'tulip_field_2016':'ttl1904', 'tulip_field_2017':'ttl1905', 'arable_land_2017':'ttl1917'}\n",
    "s2_wms_layers = ['TRUE_COLOR', 'ALL_BANDS']"
   ]
  },
  {
   "cell_type": "markdown",
   "metadata": {},
   "source": [
    "###### Required packages"
   ]
  },
  {
   "cell_type": "markdown",
   "metadata": {},
   "source": [
    "For interactive display of Sentinel 2 images with tulip fields overlay a dev version of ipyleaflet is required, which can be found here: https://github.com/ellisonbg/ipyleaflet\n",
    "\n",
    "To install it run:\n",
    "\n",
    "    $ pip install ipyleaflet\n",
    "$ jupyter nbextension enable --py --sys-prefix ipyleaflet\n",
    "\n",
    "also install pyproj, opencv, tifffile"
   ]
  },
  {
   "cell_type": "markdown",
   "metadata": {},
   "source": [
    "## Interactive display"
   ]
  },
  {
   "cell_type": "markdown",
   "metadata": {},
   "source": [
    "Create map and center it around Den Helder, Netherlands. You can zoom in/out and change the view using your mouse. "
   ]
  },
  {
   "cell_type": "code",
   "execution_count": 6,
   "metadata": {},
   "outputs": [],
   "source": [
    "from ipyleaflet import Map, WMSLayer, DrawControl, Rectangle"
   ]
  },
  {
   "cell_type": "code",
   "execution_count": 7,
   "metadata": {},
   "outputs": [],
   "source": [
    "zoom_level = 10"
   ]
  },
  {
   "cell_type": "code",
   "execution_count": 8,
   "metadata": {},
   "outputs": [
    {
     "name": "stdout",
     "output_type": "stream",
     "text": [
      "Pixel dimension at zoom level 10 equals 152.75 m.\n"
     ]
    }
   ],
   "source": [
    "import math\n",
    "earth_radius = 6372.7982e3\n",
    "pixel_size = 2* math.pi * earth_radius * math.cos(math.radians(0))/2**(zoom_level+8)\n",
    "print('Pixel dimension at zoom level %d equals %1.2f m.'%(zoom_level,pixel_size))"
   ]
  },
  {
   "cell_type": "code",
   "execution_count": 9,
   "metadata": {},
   "outputs": [],
   "source": [
    "m = Map(center=[52.9255665659715, 4.754333496093751], zoom=zoom_level, layout=dict(width='512px', height='512px'))"
   ]
  },
  {
   "cell_type": "markdown",
   "metadata": {},
   "source": [
    "### Create DrawController with callback to cover a polygon with sliding patches"
   ]
  },
  {
   "cell_type": "code",
   "execution_count": 12,
   "metadata": {},
   "outputs": [],
   "source": [
    "# PolygonSlidingWindow is a callable class following the DrawController on_draw() API\n",
    "from gather_data import PolygonSlidingWindow\n",
    "poly_sw_cb = PolygonSlidingWindow(stride_x=1900, stride_y=1900)"
   ]
  },
  {
   "cell_type": "code",
   "execution_count": 13,
   "metadata": {},
   "outputs": [],
   "source": [
    "# A callback of PolygonSlidingWindow to display the patches on the map as they are created\n",
    "# -> Patches with green border are for training; Patches with red border are for testing\n",
    "tiles = [] # save layer handles for later clean-up\n",
    "def draw_patches_on_map(ipy_map):\n",
    "    def aux(self, patch):\n",
    "        colors = { None: '#00F', 'train': '#0F0', 'test': '#F00' }\n",
    "        rect_kwargs = {'bounds': patch.box, 'weight': 1, 'color': '#00F', 'opacity': 0.2, 'fill_opacity': 0.2}\n",
    "        if patch.contained:\n",
    "            pg = Rectangle(fill_color=colors[patch.set], **rect_kwargs)\n",
    "            ipy_map.add_layer(pg)\n",
    "            tiles.append(pg)\n",
    "    return aux\n",
    "poly_sw_cb.register_callback(draw_patches_on_map(m))"
   ]
  },
  {
   "cell_type": "code",
   "execution_count": 14,
   "metadata": {},
   "outputs": [],
   "source": [
    "# Create DrawControl with our callback on polygon creation\n",
    "dc = DrawControl()\n",
    "dc.on_draw(poly_sw_cb)"
   ]
  },
  {
   "cell_type": "code",
   "execution_count": 15,
   "metadata": {},
   "outputs": [
    {
     "data": {
      "application/vnd.jupyter.widget-view+json": {
       "model_id": "44f626cc1e7e4a05be675c4a758a12e8",
       "version_major": 2,
       "version_minor": 0
      },
      "text/html": [
       "<p>Failed to display Jupyter Widget of type <code>Map</code>.</p>\n",
       "<p>\n",
       "  If you're reading this message in the Jupyter Notebook or JupyterLab Notebook, it may mean\n",
       "  that the widgets JavaScript is still loading. If this message persists, it\n",
       "  likely means that the widgets JavaScript library is either not installed or\n",
       "  not enabled. See the <a href=\"https://ipywidgets.readthedocs.io/en/stable/user_install.html\">Jupyter\n",
       "  Widgets Documentation</a> for setup instructions.\n",
       "</p>\n",
       "<p>\n",
       "  If you're reading this message in another frontend (for example, a static\n",
       "  rendering on GitHub or <a href=\"https://nbviewer.jupyter.org/\">NBViewer</a>),\n",
       "  it may mean that your frontend doesn't currently support widgets.\n",
       "</p>\n"
      ],
      "text/plain": [
       "Map(basemap={'url': 'https://{s}.tile.openstreetmap.org/{z}/{x}/{y}.png', 'max_zoom': 19, 'attribution': 'Map data (c) <a href=\"https://openstreetmap.org\">OpenStreetMap</a> contributors'}, center=[52.9255665659715, 4.754333496093751], controls=(DrawControl(layer=FeatureGroup(), polygon={'shapeOptions': {}}, polyline={'shapeOptions': {}}),), layers=(TileLayer(base=True, max_zoom=19, min_zoom=1, options=['attribution', 'detect_retina', 'max_zoom', 'min_zoom', 'tile_size']),), layout=Layout(height='512px', width='512px'), options=['attribution_control', 'basemap', 'bounce_at_zoom_limits', 'box_zoom', 'center', 'close_popup_on_click', 'double_click_zoom', 'dragging', 'inertia', 'inertia_deceleration', 'inertia_max_speed', 'keyboard', 'keyboard_pan_offset', 'keyboard_zoom_offset', 'max_zoom', 'min_zoom', 'scroll_wheel_zoom', 'tap', 'tap_tolerance', 'touch_zoom', 'world_copy_jump', 'zoom', 'zoom_animation_threshold', 'zoom_control', 'zoom_start'], zoom=10)"
      ]
     },
     "metadata": {},
     "output_type": "display_data"
    }
   ],
   "source": [
    "m.add_control(dc)\n",
    "m"
   ]
  },
  {
   "cell_type": "code",
   "execution_count": null,
   "metadata": {},
   "outputs": [],
   "source": [
    "poly_sw_cb.set_mode('train')"
   ]
  },
  {
   "cell_type": "code",
   "execution_count": null,
   "metadata": {},
   "outputs": [],
   "source": [
    "poly_sw_cb.set_mode('test')"
   ]
  },
  {
   "cell_type": "code",
   "execution_count": null,
   "metadata": {},
   "outputs": [],
   "source": [
    "{ k:len([ p for v in poly for p in v if p.contained ]) for k,poly in poly_sw_cb.patches.items() }"
   ]
  },
  {
   "cell_type": "markdown",
   "metadata": {},
   "source": [
    "#### Add Sentinel 2 layer to the map"
   ]
  },
  {
   "cell_type": "code",
   "execution_count": null,
   "metadata": {},
   "outputs": [],
   "source": [
    "s2_layer = WMSLayer(url='https://services.sentinel-hub.com/v1/wms/'+WMS_INSTANCE, layers='TRUE_COLOR', tile_size=512)"
   ]
  },
  {
   "cell_type": "code",
   "execution_count": null,
   "metadata": {},
   "outputs": [],
   "source": [
    "m.add_layer(s2_layer)"
   ]
  },
  {
   "cell_type": "markdown",
   "metadata": {},
   "source": [
    "#### Add ground truth layer (all tulip fields from 2016)"
   ]
  },
  {
   "cell_type": "code",
   "execution_count": null,
   "metadata": {},
   "outputs": [],
   "source": [
    "tulips = WMSLayer(url='http://service.geopedia.world/wms/ml_aws', layers=geopedia_layers['tulip_field_2016'], tile_size=512, format='image/png', version='1.3.0', TRANSPARENT=True, opacity=0.4)"
   ]
  },
  {
   "cell_type": "code",
   "execution_count": null,
   "metadata": {},
   "outputs": [],
   "source": [
    "m.add_layer(tulips)"
   ]
  },
  {
   "cell_type": "markdown",
   "metadata": {},
   "source": [
    "#### openstreetmap"
   ]
  },
  {
   "cell_type": "code",
   "execution_count": null,
   "metadata": {},
   "outputs": [],
   "source": [
    "wms = WMSLayer(url='https://ows.terrestris.de/osm/service', layers='OSM-Overlay-WMS', tile_size=512)"
   ]
  },
  {
   "cell_type": "code",
   "execution_count": null,
   "metadata": {},
   "outputs": [],
   "source": [
    "m.add_layer(wms)"
   ]
  },
  {
   "cell_type": "markdown",
   "metadata": {},
   "source": [
    "#### Clean-up layers"
   ]
  },
  {
   "cell_type": "code",
   "execution_count": null,
   "metadata": {},
   "outputs": [],
   "source": [
    "list(m.remove_layer(pg) for pg in tiles);"
   ]
  },
  {
   "cell_type": "markdown",
   "metadata": {},
   "source": [
    "## Run downloader"
   ]
  },
  {
   "cell_type": "code",
   "execution_count": null,
   "metadata": {},
   "outputs": [],
   "source": [
    "import uuid\n",
    "root_dir = 'images/{}/'.format(uuid.uuid4())\n",
    "root_dir"
   ]
  },
  {
   "cell_type": "code",
   "execution_count": null,
   "metadata": {},
   "outputs": [],
   "source": [
    "# A callback to display download progress on map\n",
    "def show_progress_on_map(ipy_map, color):\n",
    "    def aux(patch):\n",
    "        if patch.contained:\n",
    "            colors = { None: '#00F', 'train': '#0F0', 'test': '#F00' }\n",
    "            rect_kwargs = {'bounds': patch.bounds, 'weight': 1, 'color': colors[patch.set], 'opacity': 0.2, 'fill_opacity': 0.2}\n",
    "            pg = Rectangle(fill_color=color, **rect_kwargs)\n",
    "            ipy_map.add_layer(pg)\n",
    "            tiles.append(pg)\n",
    "    return aux"
   ]
  },
  {
   "cell_type": "code",
   "execution_count": null,
   "metadata": {},
   "outputs": [],
   "source": [
    "from DataRequest import TulipFieldRequest, S2Request\n",
    "# A function to download data for all the patches in the sliding window\n",
    "from gather_data import BatchDownloader"
   ]
  },
  {
   "cell_type": "code",
   "execution_count": null,
   "metadata": {},
   "outputs": [],
   "source": [
    "poly_sw_cb.set_mode('train')\n",
    "downloader_train_labels = BatchDownloader(root_dir+'train/', poly_sw_cb, TulipFieldRequest, (), {'width':512, 'height':512, 'crs':3857, 'layer':geopedia_layers['tulip_field_2016']})"
   ]
  },
  {
   "cell_type": "code",
   "execution_count": null,
   "metadata": {},
   "outputs": [],
   "source": [
    "downloader_train_labels.download_data()"
   ]
  },
  {
   "cell_type": "code",
   "execution_count": null,
   "metadata": {},
   "outputs": [],
   "source": [
    "poly_sw_cb.set_mode('train')\n",
    "downloader_train_images = BatchDownloader(root_dir+'train/', poly_sw_cb,\n",
    "                             S2Request, (WMS_INSTANCE,),\n",
    "                             {'width':512, 'height':512, 'crs':3857, 'time':('2016-04-01','2016-09-31'), 'layers':'TRUE_COLOR', 'maxcc':0.1})"
   ]
  },
  {
   "cell_type": "code",
   "execution_count": null,
   "metadata": {},
   "outputs": [],
   "source": [
    "downloader_train_images.download_data()"
   ]
  },
  {
   "cell_type": "code",
   "execution_count": null,
   "metadata": {},
   "outputs": [],
   "source": []
  }
 ],
 "metadata": {
  "kernelspec": {
   "display_name": "Python 3",
   "language": "python",
   "name": "python3"
  },
  "language_info": {
   "codemirror_mode": {
    "name": "ipython",
    "version": 3
   },
   "file_extension": ".py",
   "mimetype": "text/x-python",
   "name": "python",
   "nbconvert_exporter": "python",
   "pygments_lexer": "ipython3",
   "version": "3.6.4"
  }
 },
 "nbformat": 4,
 "nbformat_minor": 2
}
