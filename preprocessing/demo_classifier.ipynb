{
 "cells": [
  {
   "cell_type": "code",
   "execution_count": 1,
   "metadata": {},
   "outputs": [],
   "source": [
    "import numpy as np\n",
    "from PIL import Image\n",
    "import os\n",
    "import glob\n",
    "import math\n",
    "import matplotlib.pyplot as plt\n",
    "%matplotlib inline"
   ]
  },
  {
   "cell_type": "code",
   "execution_count": 2,
   "metadata": {},
   "outputs": [],
   "source": [
    "DATA_DIR = '../data/tulips/'\n",
    "IMG_DIR = os.path.join(DATA_DIR, 'sample/')\n",
    "CHECKPOINTS_DIR = 'checkpoints'"
   ]
  },
  {
   "cell_type": "code",
   "execution_count": 3,
   "metadata": {},
   "outputs": [],
   "source": [
    "import mxnet as mx\n",
    "from mxnet import gluon\n",
    "from mxnet.image import color_normalize"
   ]
  },
  {
   "cell_type": "code",
   "execution_count": 5,
   "metadata": {},
   "outputs": [],
   "source": [
    "# ctx = mx.gpu(0)\n",
    "ctx = mx.cpu()"
   ]
  },
  {
   "cell_type": "code",
   "execution_count": 20,
   "metadata": {},
   "outputs": [],
   "source": [
    "# Load the pretrained network\n",
    "rn50bin = gluon.model_zoo.vision.resnet101_v2(classes=2, ctx=ctx)\n",
    "rn50bin.initialize(mx.init.Xavier())\n",
    "rn50bin.collect_params().reset_ctx(ctx)"
   ]
  },
  {
   "cell_type": "code",
   "execution_count": 23,
   "metadata": {},
   "outputs": [],
   "source": [
    "# Load results\n",
    "checkpoints = os.path.join(CHECKPOINTS_DIR, 'resnet100-bin')\n",
    "rn50bin.load_params(os.path.join(checkpoints, '44-0.params'), ctx)"
   ]
  },
  {
   "cell_type": "code",
   "execution_count": 9,
   "metadata": {},
   "outputs": [],
   "source": [
    "labels = {0:'clear', 1:'cloudy'}"
   ]
  },
  {
   "cell_type": "code",
   "execution_count": 10,
   "metadata": {},
   "outputs": [],
   "source": [
    "mean = mx.nd.array([0.485, 0.456, 0.406], ctx=ctx).reshape((3,1,1))\n",
    "std =  mx.nd.array([0.229, 0.224, 0.225], ctx=ctx).reshape((3,1,1))"
   ]
  },
  {
   "cell_type": "code",
   "execution_count": 11,
   "metadata": {},
   "outputs": [],
   "source": [
    "augs = [\n",
    "     mx.image.RandomCropAug((224, 224))\n",
    "]\n",
    "\n",
    "def preprocess(data, augs):\n",
    "    data = mx.nd.array(data).astype('float32').as_in_context(ctx)\n",
    "    for aug in augs:\n",
    "        data = aug(data)\n",
    "    data = mx.nd.transpose(data, (2,0,1))\n",
    "    data = color_normalize(data/255, mean, std)\n",
    "    return data\n",
    "\n",
    "def read_img(filename):\n",
    "    img = Image.open(filename)\n",
    "    return preprocess(img, augs)"
   ]
  },
  {
   "cell_type": "code",
   "execution_count": 12,
   "metadata": {},
   "outputs": [],
   "source": [
    "def load_batch(filenames):\n",
    "    batch = mx.nd.empty((len(filenames),3,224,224))\n",
    "    for idx,fn in enumerate(filenames):\n",
    "        batch[idx] = read_img(fn)\n",
    "    \n",
    "    return batch"
   ]
  },
  {
   "cell_type": "code",
   "execution_count": 17,
   "metadata": {},
   "outputs": [],
   "source": [
    "def filter_folder(root, batch_size, net, ext='.png'):\n",
    "    files = glob.glob(root + '*' + ext)\n",
    "    cloudy = []\n",
    "    \n",
    "    for n in range(math.ceil(len(files)/batch_size)):\n",
    "        files_batch = files[n*batch_size:(n+1)*batch_size]\n",
    "        batch = load_batch(files_batch)\n",
    "        batch = batch.as_in_context(ctx)\n",
    "        preds = mx.nd.argmax(net(batch), axis=1)\n",
    "        idxs = np.nonzero(preds.asnumpy())[0]\n",
    "        cloudy.extend([files_batch[i] for i in idxs])\n",
    "        \n",
    "    # Do something with the cloudy images (delete/move to new directory)\n",
    "    print(cloudy)"
   ]
  },
  {
   "cell_type": "code",
   "execution_count": 24,
   "metadata": {},
   "outputs": [
    {
     "name": "stdout",
     "output_type": "stream",
     "text": [
      "Batch 0\n",
      "Batch 1\n",
      "Batch 2\n",
      "Batch 3\n",
      "['../data/tulips/sample/img8.png', '../data/tulips/sample/img7.png']\n"
     ]
    }
   ],
   "source": [
    "filter_folder(IMG_DIR, 2, rn50bin)"
   ]
  }
 ],
 "metadata": {
  "kernelspec": {
   "display_name": "Python 3",
   "language": "python",
   "name": "python3"
  },
  "language_info": {
   "codemirror_mode": {
    "name": "ipython",
    "version": 3
   },
   "file_extension": ".py",
   "mimetype": "text/x-python",
   "name": "python",
   "nbconvert_exporter": "python",
   "pygments_lexer": "ipython3",
   "version": "3.5.2"
  }
 },
 "nbformat": 4,
 "nbformat_minor": 2
}
