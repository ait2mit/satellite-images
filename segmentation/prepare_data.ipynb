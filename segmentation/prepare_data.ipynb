{
 "cells": [
  {
   "cell_type": "code",
   "execution_count": 3,
   "metadata": {},
   "outputs": [],
   "source": [
    "import os\n",
    "import numpy as np\n",
    "from skimage.io import imsave, imread\n",
    "from datetime import datetime"
   ]
  },
  {
   "cell_type": "code",
   "execution_count": 21,
   "metadata": {},
   "outputs": [],
   "source": [
    "geopedia_layers = {'tulip_field_2016':'ttl1904', 'tulip_field_2017':'ttl1905'}"
   ]
  },
  {
   "cell_type": "code",
   "execution_count": null,
   "metadata": {},
   "outputs": [],
   "source": [
    "class ImageWithMaskDataset(dataset.Dataset):\n",
    "    \"\"\"\n",
    "    A dataset for loading images (with masks).\n",
    "\n",
    "    Parameters\n",
    "    ----------\n",
    "    root : str\n",
    "        Path to root directory.\n",
    "    transform : callable, default None\n",
    "        A function that takes data and label and transforms them:\n",
    "    ::\n",
    "        transform = lambda data, label: (data.astype(np.float32)/255, label)\n",
    "    \"\"\"\n",
    "    def __init__(self, root, transform=None):\n",
    "        self._root = os.path.expanduser(root)\n",
    "        self._transform = transform\n",
    "        self._exts = ['.png']\n",
    "        self._list_images(self._root)\n",
    "        self._mask_fn = \n",
    "\n",
    "    def _list_images(self, root):\n",
    "        images = collections.defaultdict(dict)\n",
    "        for filename in sorted(os.listdir(root)):\n",
    "            name, ext = os.path.splitext(filename)\n",
    "            mask_flag = name.contains(\"geopedia\")\n",
    "            if ext.lower() not in self._exts:\n",
    "                continue\n",
    "            if not mask_flag:\n",
    "                patch_id = filename.split('_')[1]\n",
    "                year = datetime.strptime(filename.split('_')[3], \"%Y%m%d-%H%M%S\").year\n",
    "                mask_fn = 'tulip_{}_geopedia_{}.png'.format(patch_id, geopedia_layers['tulip_field_{}'.format(year)])\n",
    "                images[name][\"base\"] = filename\n",
    "                images[name][\"mask\"] = mask_fn\n",
    "        self._image_list = list(images.values())\n",
    "\n",
    "    def __getitem__(self, idx):\n",
    "        assert 'base' in self._image_list[idx], \"Couldn't find base image for: \" + image_list[idx][\"mask\"]\n",
    "        base_filepath = os.path.join(self._root, self._image_list[idx][\"base\"])\n",
    "        base = mx.image.imread(base_filepath)\n",
    "        assert 'mask' in self._image_list[idx], \"Couldn't find mask image for: \" + image_list[idx][\"base\"]\n",
    "        mask_filepath = os.path.join(self._root, self._image_list[idx][\"mask\"])\n",
    "        mask = mx.image.imread(mask_filepath)\n",
    "        if self._transform is not None:\n",
    "            return self._transform(base, mask)\n",
    "        else:\n",
    "            return base, mask\n",
    "\n",
    "    def __len__(self):\n",
    "        return len(self._image_list)"
   ]
  },
  {
   "cell_type": "code",
   "execution_count": null,
   "metadata": {},
   "outputs": [],
   "source": [
    "def positional_augmentation(joint):\n",
    "    # Random crop\n",
    "    crop_height = 224\n",
    "    crop_width = 224\n",
    "    aug = mx.image.RandomCropAug(size=(crop_width, crop_height)) # Watch out: weight before height in size param!\n",
    "    aug_joint = aug(joint)\n",
    "    # Deterministic resize\n",
    "    resize_size = 100\n",
    "    aug = mx.image.ResizeAug(resize_size)\n",
    "    aug_joint = aug(aug_joint)\n",
    "    # Add more translation/scale/rotation augmentations here...\n",
    "    return aug_joint\n",
    "\n",
    "\n",
    "def color_augmentation(base):\n",
    "    # Only applied to the base image, and not the mask layers.\n",
    "    aug = mx.image.BrightnessJitterAug(brightness=0.2)\n",
    "    aug_base = aug(base)\n",
    "    # Add more color augmentations here...\n",
    "    return aug_base\n",
    "\n",
    "\n",
    "def joint_transform(base, mask):\n",
    "    ### Convert types\n",
    "    base = base.astype('float32')/255\n",
    "    mask = mask.astype('float32')/255\n",
    "    \n",
    "    ### Join\n",
    "    # Concatinate on channels dim, to obtain an 6 channel image\n",
    "    # (3 channels for the base image, plus 3 channels for the mask)\n",
    "    base_channels = base.shape[2] # so we know where to split later on\n",
    "    joint = mx.nd.concat(base, mask, dim=2)\n",
    "\n",
    "    ### Augmentation Part 1: positional\n",
    "    aug_joint = positional_augmentation(joint)\n",
    "    \n",
    "    ### Split\n",
    "    aug_base = aug_joint[:, :, :base_channels]\n",
    "    aug_mask = aug_joint[:, :, base_channels:]\n",
    "    \n",
    "    ### Augmentation Part 2: color\n",
    "    aug_base = color_augmentation(aug_base)\n",
    "\n",
    "    return aug_base, aug_mask"
   ]
  },
  {
   "cell_type": "code",
   "execution_count": null,
   "metadata": {},
   "outputs": [],
   "source": [
    "ds = ImageWithMaskDataset(root=image_dir, transform=joint_transform)\n",
    "sample = ds.__getitem__(0)"
   ]
  },
  {
   "cell_type": "code",
   "execution_count": 4,
   "metadata": {},
   "outputs": [],
   "source": [
    "fn = \"tulip_5b279940bb675342bee39940f3755342_wms_20160501-105310_TRUE_COLOR\""
   ]
  },
  {
   "cell_type": "code",
   "execution_count": 18,
   "metadata": {},
   "outputs": [],
   "source": [
    "year = datetime.strptime(fn.split('_')[3], \"%Y%m%d-%H%M%S\").year\n",
    "patch_id = 3"
   ]
  },
  {
   "cell_type": "code",
   "execution_count": 20,
   "metadata": {},
   "outputs": [
    {
     "data": {
      "text/plain": [
       "'tulip_3_geopedia_ttl1904.png'"
      ]
     },
     "execution_count": 20,
     "metadata": {},
     "output_type": "execute_result"
    }
   ],
   "source": [
    "'tulip_{}_geopedia_{}.png'.format(patch_id, geopedia_layers['tulip_field_{}'.format(year)])"
   ]
  }
 ],
 "metadata": {
  "kernelspec": {
   "display_name": "Python 3",
   "language": "python",
   "name": "python3"
  },
  "language_info": {
   "codemirror_mode": {
    "name": "ipython",
    "version": 3
   },
   "file_extension": ".py",
   "mimetype": "text/x-python",
   "name": "python",
   "nbconvert_exporter": "python",
   "pygments_lexer": "ipython3",
   "version": "3.5.2"
  }
 },
 "nbformat": 4,
 "nbformat_minor": 2
}
