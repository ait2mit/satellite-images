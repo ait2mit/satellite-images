{
 "cells": [
  {
   "cell_type": "markdown",
   "metadata": {},
   "source": [
    "## Data preparation"
   ]
  },
  {
   "cell_type": "markdown",
   "metadata": {},
   "source": [
    "To get data for the segmetation step:\n",
    "\n",
    " 1. Download data from Sentinel-2 using the DataRequest/download_data.py script\n",
    " 2. Filter out cloudy images using the preprocessing/filtering.py script\n",
    " 3. As not many images are left after this process, use the Augmentor library for data augmentation (this notebook)\n",
    "\n",
    "Augmentor: https://github.com/mdbloice/Augmentor"
   ]
  },
  {
   "cell_type": "code",
   "execution_count": 1,
   "metadata": {},
   "outputs": [],
   "source": [
    "import sys\n",
    "sys.path.append('../util')\n",
    "import myaugmentor"
   ]
  },
  {
   "cell_type": "code",
   "execution_count": 2,
   "metadata": {},
   "outputs": [],
   "source": [
    "IMG_DIR = '../data/tulips/bloom/filtered/'"
   ]
  },
  {
   "cell_type": "code",
   "execution_count": 3,
   "metadata": {},
   "outputs": [
    {
     "name": "stdout",
     "output_type": "stream",
     "text": [
      "Initialised with 4785 image(s) found.\n",
      "Output directory set to ../data/tulips/bloom/filtered/output."
     ]
    }
   ],
   "source": [
    "p = myaugmentor.MyPipeline(IMG_DIR)"
   ]
  },
  {
   "cell_type": "code",
   "execution_count": 4,
   "metadata": {},
   "outputs": [
    {
     "name": "stderr",
     "output_type": "stream",
     "text": [
      "                                                                       "
     ]
    },
    {
     "name": "stdout",
     "output_type": "stream",
     "text": [
      "4785 ground truth image(s) found.\n"
     ]
    },
    {
     "name": "stderr",
     "output_type": "stream",
     "text": [
      "\r"
     ]
    }
   ],
   "source": [
    "p.ground_truth('../data/tulips/bloom/masks')"
   ]
  },
  {
   "cell_type": "markdown",
   "metadata": {},
   "source": [
    "Define transformations to be applied to our images. I chose those which I think can be beneficial for satellite image segmentation, in particular those which do not alter the shape of crops (with these ones, the shape can vary, but crops remain polygons with straight sides). \n",
    "\n",
    "Details of the transformations here:\n",
    "https://github.com/mdbloice/Augmentor#main-features"
   ]
  },
  {
   "cell_type": "code",
   "execution_count": 5,
   "metadata": {},
   "outputs": [],
   "source": [
    "p.skew(probability=0.5, magnitude=0.5)\n",
    "p.shear(probability=0.3, max_shear_left=15, max_shear_right=15)\n",
    "p.flip_left_right(probability=0.5)\n",
    "p.flip_top_bottom(probability=0.5)\n",
    "p.rotate_random_90(probability=0.75)\n",
    "p.rotate(probability=0.75, max_left_rotation=20, max_right_rotation=24)"
   ]
  },
  {
   "cell_type": "markdown",
   "metadata": {},
   "source": [
    "Define the number of images to generate"
   ]
  },
  {
   "cell_type": "code",
   "execution_count": 7,
   "metadata": {},
   "outputs": [],
   "source": [
    "N = 20000"
   ]
  },
  {
   "cell_type": "code",
   "execution_count": 8,
   "metadata": {},
   "outputs": [
    {
     "name": "stderr",
     "output_type": "stream",
     "text": [
      "Processing <PIL.Image.Image image mode=RGB size=256x256 at 0x7F42E04E1438>: 100%|██████████| 20000/20000 [01:19<00:00, 252.40 Samples/s]                 \n"
     ]
    }
   ],
   "source": [
    "p.sample(N)"
   ]
  },
  {
   "cell_type": "markdown",
   "metadata": {},
   "source": [
    "Generated images are saved in IMG_DIR/output"
   ]
  }
 ],
 "metadata": {
  "kernelspec": {
   "display_name": "Python 3",
   "language": "python",
   "name": "python3"
  },
  "language_info": {
   "codemirror_mode": {
    "name": "ipython",
    "version": 3
   },
   "file_extension": ".py",
   "mimetype": "text/x-python",
   "name": "python",
   "nbconvert_exporter": "python",
   "pygments_lexer": "ipython3",
   "version": "3.5.2"
  }
 },
 "nbformat": 4,
 "nbformat_minor": 2
}
