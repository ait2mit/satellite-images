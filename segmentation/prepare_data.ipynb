{
 "cells": [
  {
   "cell_type": "markdown",
   "metadata": {},
   "source": [
    "## Data preparation"
   ]
  },
  {
   "cell_type": "markdown",
   "metadata": {},
   "source": [
    "To get data for the segmetation step:\n",
    "\n",
    " 1. Download data from Sentinel-2 using the DataRequest/download_data.py script\n",
    " 2. Filter out cloudy images using the preprocessing/filtering.py script\n",
    " 3. Set apart 20% of the data to save it for validation\n",
    " 4. As not many images are left after this process, use the Augmentor library for data augmentation (this notebook)\n",
    "\n",
    "Augmentor: https://github.com/mdbloice/Augmentor"
   ]
  },
  {
   "cell_type": "code",
   "execution_count": 12,
   "metadata": {},
   "outputs": [],
   "source": [
    "import os\n",
    "import sys\n",
    "import glob\n",
    "import random\n",
    "sys.path.append('../util')\n",
    "import myaugmentor"
   ]
  },
  {
   "cell_type": "code",
   "execution_count": 13,
   "metadata": {},
   "outputs": [],
   "source": [
    "IMG_DIR = '../data/tulips/bloom/filtered/'\n",
    "ext = '.png'"
   ]
  },
  {
   "cell_type": "markdown",
   "metadata": {},
   "source": [
    "Lets set apart a fraction of the images, which will be used for validation. These images shouldnt be used as part of the base for the augmentations."
   ]
  },
  {
   "cell_type": "code",
   "execution_count": 27,
   "metadata": {},
   "outputs": [],
   "source": [
    "root = os.path.abspath(os.path.join(IMG_DIR, os.pardir))\n",
    "val_dir = os.path.join(root, 'val')\n",
    "os.makedirs(val_dir, exist_ok=True)"
   ]
  },
  {
   "cell_type": "code",
   "execution_count": 28,
   "metadata": {},
   "outputs": [],
   "source": [
    "image_list = glob.glob(IMG_DIR + '*' + ext)"
   ]
  },
  {
   "cell_type": "code",
   "execution_count": 29,
   "metadata": {},
   "outputs": [],
   "source": [
    "val = random.sample(image_list, int(len(image_list)*0.2))"
   ]
  },
  {
   "cell_type": "code",
   "execution_count": 30,
   "metadata": {},
   "outputs": [],
   "source": [
    "for img in val:\n",
    "    os.rename(img, os.path.join(val_dir, os.path.basename(img)))"
   ]
  },
  {
   "cell_type": "code",
   "execution_count": 31,
   "metadata": {},
   "outputs": [
    {
     "name": "stdout",
     "output_type": "stream",
     "text": [
      "Initialised with 3828 image(s) found.\n",
      "Output directory set to /home/ANT.AMAZON.COM/jlcont/tulip-fields/data/tulips/bloom/train."
     ]
    }
   ],
   "source": [
    "p = myaugmentor.MyPipeline(IMG_DIR, output_directory=os.path.join(root, \"train\"))"
   ]
  },
  {
   "cell_type": "code",
   "execution_count": 32,
   "metadata": {},
   "outputs": [
    {
     "name": "stderr",
     "output_type": "stream",
     "text": [
      "                                                         "
     ]
    },
    {
     "name": "stdout",
     "output_type": "stream",
     "text": [
      "3828 ground truth image(s) found.\n"
     ]
    },
    {
     "name": "stderr",
     "output_type": "stream",
     "text": [
      "\r"
     ]
    }
   ],
   "source": [
    "p.ground_truth(os.path.join(root, \"masks\"))"
   ]
  },
  {
   "cell_type": "markdown",
   "metadata": {},
   "source": [
    "Define transformations to be applied to our images. I chose those which I think can be beneficial for satellite image segmentation, in particular those which do not alter the shape of crops (with these ones, the shape can vary, but crops remain polygons with straight sides). \n",
    "\n",
    "Details of the transformations here:\n",
    "https://github.com/mdbloice/Augmentor#main-features"
   ]
  },
  {
   "cell_type": "code",
   "execution_count": 33,
   "metadata": {},
   "outputs": [],
   "source": [
    "p.skew(probability=0.5, magnitude=0.5)\n",
    "p.shear(probability=0.3, max_shear_left=15, max_shear_right=15)\n",
    "p.flip_left_right(probability=0.5)\n",
    "p.flip_top_bottom(probability=0.5)\n",
    "p.rotate_random_90(probability=0.75)\n",
    "p.rotate(probability=0.75, max_left_rotation=20, max_right_rotation=24)"
   ]
  },
  {
   "cell_type": "markdown",
   "metadata": {},
   "source": [
    "Define the number of images to generate"
   ]
  },
  {
   "cell_type": "code",
   "execution_count": 34,
   "metadata": {},
   "outputs": [],
   "source": [
    "N = 20000"
   ]
  },
  {
   "cell_type": "code",
   "execution_count": 35,
   "metadata": {},
   "outputs": [
    {
     "name": "stderr",
     "output_type": "stream",
     "text": [
      "Processing <PIL.Image.Image image mode=RGB size=256x256 at 0x7F42E0793860>: 100%|██████████| 20000/20000 [01:20<00:00, 249.26 Samples/s]                 \n"
     ]
    }
   ],
   "source": [
    "p.sample(N)"
   ]
  },
  {
   "cell_type": "markdown",
   "metadata": {},
   "source": [
    "Generated images are saved in IMG_DIR/train/"
   ]
  }
 ],
 "metadata": {
  "kernelspec": {
   "display_name": "Python 3",
   "language": "python",
   "name": "python3"
  },
  "language_info": {
   "codemirror_mode": {
    "name": "ipython",
    "version": 3
   },
   "file_extension": ".py",
   "mimetype": "text/x-python",
   "name": "python",
   "nbconvert_exporter": "python",
   "pygments_lexer": "ipython3",
   "version": "3.5.2"
  }
 },
 "nbformat": 4,
 "nbformat_minor": 2
}
